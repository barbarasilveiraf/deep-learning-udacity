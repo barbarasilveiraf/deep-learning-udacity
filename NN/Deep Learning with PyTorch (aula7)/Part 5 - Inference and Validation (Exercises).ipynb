{
 "cells": [
  {
   "cell_type": "markdown",
   "metadata": {},
   "source": [
    "# Inference and Validation\n",
    "\n",
    "Now that you have a trained network, you can use it for making predictions. This is typically called **inference**, a term borrowed from statistics. However, neural networks have a tendency to perform *too well* on the training data and aren't able to generalize to data that hasn't been seen before. This is called **overfitting** and it impairs inference performance. To test for overfitting while training, we measure the performance on data not in the training set called the **validation** set. We avoid overfitting through regularization such as dropout while monitoring the validation performance during training. In this notebook, I'll show you how to do this in PyTorch. \n",
    "\n",
    "As usual, let's start by loading the dataset through torchvision. You'll learn more about torchvision and loading data in a later part. This time we'll be taking advantage of the test set which you can get by setting `train=False` here:\n",
    "\n",
    "```python\n",
    "testset = datasets.FashionMNIST('~/.pytorch/F_MNIST_data/', download=True, train=False, transform=transform)\n",
    "```\n",
    "\n",
    "The test set contains images just like the training set. Typically you'll see 10-20% of the original dataset held out for testing and validation with the rest being used for training."
   ]
  },
  {
   "cell_type": "code",
   "execution_count": 1,
   "metadata": {},
   "outputs": [],
   "source": [
    "import torch\n",
    "from torchvision import datasets, transforms\n",
    "\n",
    "# Define a transform to normalize the data\n",
    "transform = transforms.Compose([transforms.ToTensor(),\n",
    "                                transforms.Normalize((0.5, 0.5, 0.5), (0.5, 0.5, 0.5))])\n",
    "# Download and load the training data\n",
    "trainset = datasets.FashionMNIST('~/.pytorch/F_MNIST_data/', download=True, train=True, transform=transform)\n",
    "trainloader = torch.utils.data.DataLoader(trainset, batch_size=64, shuffle=True)\n",
    "\n",
    "# Download and load the test data\n",
    "testset = datasets.FashionMNIST('~/.pytorch/F_MNIST_data/', download=True, train=False, transform=transform)\n",
    "testloader = torch.utils.data.DataLoader(testset, batch_size=64, shuffle=True)"
   ]
  },
  {
   "cell_type": "markdown",
   "metadata": {},
   "source": [
    "Here I'll create a model like normal, using the same one from my solution for part 4."
   ]
  },
  {
   "cell_type": "code",
   "execution_count": 2,
   "metadata": {},
   "outputs": [],
   "source": [
    "from torch import nn, optim\n",
    "import torch.nn.functional as F\n",
    "\n",
    "class Classifier(nn.Module):\n",
    "    def __init__(self):\n",
    "        super().__init__()\n",
    "        self.fc1 = nn.Linear(784, 256)\n",
    "        self.fc2 = nn.Linear(256, 128)\n",
    "        self.fc3 = nn.Linear(128, 64)\n",
    "        self.fc4 = nn.Linear(64, 10)\n",
    "        \n",
    "    def forward(self, x):\n",
    "        # make sure input tensor is flattened\n",
    "        x = x.view(x.shape[0], -1)\n",
    "        \n",
    "        x = F.relu(self.fc1(x))\n",
    "        x = F.relu(self.fc2(x))\n",
    "        x = F.relu(self.fc3(x))\n",
    "        x = F.log_softmax(self.fc4(x), dim=1)\n",
    "        \n",
    "        return x"
   ]
  },
  {
   "cell_type": "markdown",
   "metadata": {},
   "source": [
    "The goal of validation is to measure the model's performance on data that isn't part of the training set. Performance here is up to the developer to define though. Typically this is just accuracy, the percentage of classes the network predicted correctly. Other options are [precision and recall](https://en.wikipedia.org/wiki/Precision_and_recall#Definition_(classification_context)) and top-5 error rate. We'll focus on accuracy here. First I'll do a forward pass with one batch from the test set."
   ]
  },
  {
   "cell_type": "code",
   "execution_count": 3,
   "metadata": {},
   "outputs": [
    {
     "name": "stdout",
     "output_type": "stream",
     "text": [
      "torch.Size([64, 10])\n"
     ]
    }
   ],
   "source": [
    "model = Classifier()\n",
    "\n",
    "images, labels = next(iter(testloader))\n",
    "# Get the class probabilities\n",
    "ps = torch.exp(model(images))\n",
    "# Make sure the shape is appropriate, we should get 10 class probabilities for 64 examples\n",
    "print(ps.shape)"
   ]
  },
  {
   "cell_type": "markdown",
   "metadata": {},
   "source": [
    "With the probabilities, we can get the most likely class using the `ps.topk` method. This returns the $k$ highest values. Since we just want the most likely class, we can use `ps.topk(1)`. This returns a tuple of the top-$k$ values and the top-$k$ indices. If the highest value is the fifth element, we'll get back 4 as the index."
   ]
  },
  {
   "cell_type": "code",
   "execution_count": 7,
   "metadata": {},
   "outputs": [
    {
     "name": "stdout",
     "output_type": "stream",
     "text": [
      "tensor([[ 6],\n",
      "        [ 6],\n",
      "        [ 6],\n",
      "        [ 6],\n",
      "        [ 6],\n",
      "        [ 6],\n",
      "        [ 6],\n",
      "        [ 6],\n",
      "        [ 6],\n",
      "        [ 6]])\n"
     ]
    }
   ],
   "source": [
    "ps = torch.exp(model(images))\n",
    "top_p, top_class = ps.topk(1, dim=1)\n",
    "# Look at the most likely classes for the first 10 examples\n",
    "print(top_class[:10,:])"
   ]
  },
  {
   "cell_type": "markdown",
   "metadata": {},
   "source": [
    "Now we can check if the predicted classes match the labels. This is simple to do by equating `top_class` and `labels`, but we have to be careful of the shapes. Here `top_class` is a 2D tensor with shape `(64, 1)` while `labels` is 1D with shape `(64)`. To get the equality to work out the way we want, `top_class` and `labels` must have the same shape.\n",
    "\n",
    "If we do\n",
    "\n",
    "```python\n",
    "equals = top_class == labels\n",
    "```\n",
    "\n",
    "`equals` will have shape `(64, 64)`, try it yourself. What it's doing is comparing the one element in each row of `top_class` with each element in `labels` which returns 64 True/False boolean values for each row."
   ]
  },
  {
   "cell_type": "code",
   "execution_count": 10,
   "metadata": {},
   "outputs": [],
   "source": [
    "equals = top_class == labels.view(*top_class.shape)"
   ]
  },
  {
   "cell_type": "code",
   "execution_count": 12,
   "metadata": {},
   "outputs": [
    {
     "data": {
      "text/plain": [
       "torch.Size([64, 1])"
      ]
     },
     "execution_count": 12,
     "metadata": {},
     "output_type": "execute_result"
    }
   ],
   "source": [
    "equals.shape"
   ]
  },
  {
   "cell_type": "markdown",
   "metadata": {},
   "source": [
    "Now we need to calculate the percentage of correct predictions. `equals` has binary values, either 0 or 1. This means that if we just sum up all the values and divide by the number of values, we get the percentage of correct predictions. This is the same operation as taking the mean, so we can get the accuracy with a call to `torch.mean`. If only it was that simple. If you try `torch.mean(equals)`, you'll get an error\n",
    "\n",
    "```\n",
    "RuntimeError: mean is not implemented for type torch.ByteTensor\n",
    "```\n",
    "\n",
    "This happens because `equals` has type `torch.ByteTensor` but `torch.mean` isn't implemented for tensors with that type. So we'll need to convert `equals` to a float tensor. Note that when we take `torch.mean` it returns a scalar tensor, to get the actual value as a float we'll need to do `accuracy.item()`."
   ]
  },
  {
   "cell_type": "code",
   "execution_count": 13,
   "metadata": {},
   "outputs": [
    {
     "name": "stdout",
     "output_type": "stream",
     "text": [
      "Accuracy: 12.5%\n"
     ]
    }
   ],
   "source": [
    "accuracy = torch.mean(equals.type(torch.FloatTensor))\n",
    "print(f'Accuracy: {accuracy.item()*100}%')"
   ]
  },
  {
   "cell_type": "markdown",
   "metadata": {},
   "source": [
    "The network is untrained so it's making random guesses and we should see an accuracy around 10%. Now let's train our network and include our validation pass so we can measure how well the network is performing on the test set. Since we're not updating our parameters in the validation pass, we can speed up our code by turning off gradients using `torch.no_grad()`:\n",
    "\n",
    "```python\n",
    "# turn off gradients\n",
    "with torch.no_grad():\n",
    "    # validation pass here\n",
    "    for images, labels in testloader:\n",
    "        ...\n",
    "```\n",
    "\n",
    ">**Exercise:** Implement the validation loop below and print out the total accuracy after the loop. You can largely copy and paste the code from above, but I suggest typing it in because writing it out yourself is essential for building the skill. In general you'll always learn more by typing it rather than copy-pasting. You should be able to get an accuracy above 80%."
   ]
  },
  {
   "cell_type": "code",
   "execution_count": 35,
   "metadata": {
    "scrolled": true
   },
   "outputs": [
    {
     "name": "stdout",
     "output_type": "stream",
     "text": [
      "Epoch  0\n",
      "Train Loss 0.6006688948220281\n",
      "Test Loss tensor(0.5641)\n",
      "Test Acuracy  tensor(0.7948)\n",
      "\n",
      "\n",
      "Epoch  1\n",
      "Train Loss 0.48320719911091364\n",
      "Test Loss tensor(0.4889)\n",
      "Test Acuracy  tensor(0.8295)\n",
      "\n",
      "\n",
      "Epoch  2\n",
      "Train Loss 0.45429807704394815\n",
      "Test Loss tensor(0.4844)\n",
      "Test Acuracy  tensor(0.8353)\n",
      "\n",
      "\n",
      "Epoch  3\n",
      "Train Loss 0.43402577649110924\n",
      "Test Loss tensor(0.4780)\n",
      "Test Acuracy  tensor(0.8355)\n",
      "\n",
      "\n",
      "Epoch  4\n",
      "Train Loss 0.41991863518889777\n",
      "Test Loss tensor(0.4895)\n",
      "Test Acuracy  tensor(0.8352)\n",
      "\n",
      "\n",
      "Epoch  5\n",
      "Train Loss 0.4113921520711262\n",
      "Test Loss tensor(0.4597)\n",
      "Test Acuracy  tensor(0.8462)\n",
      "\n",
      "\n",
      "Epoch  6\n",
      "Train Loss 0.40186453335829125\n",
      "Test Loss tensor(0.4683)\n",
      "Test Acuracy  tensor(0.8416)\n",
      "\n",
      "\n",
      "Epoch  7\n",
      "Train Loss 0.4028428367762042\n",
      "Test Loss tensor(0.4489)\n",
      "Test Acuracy  tensor(0.8462)\n",
      "\n",
      "\n",
      "Epoch  8\n",
      "Train Loss 0.3913672129705008\n",
      "Test Loss tensor(0.4747)\n",
      "Test Acuracy  tensor(0.8462)\n",
      "\n",
      "\n",
      "Epoch  9\n",
      "Train Loss 0.38717034467057126\n",
      "Test Loss tensor(0.4611)\n",
      "Test Acuracy  tensor(0.8440)\n",
      "\n",
      "\n",
      "Epoch  10\n",
      "Train Loss 0.3838887626269479\n",
      "Test Loss tensor(0.4690)\n",
      "Test Acuracy  tensor(0.8470)\n",
      "\n",
      "\n",
      "Epoch  11\n",
      "Train Loss 0.38490263722153867\n",
      "Test Loss tensor(0.4638)\n",
      "Test Acuracy  tensor(0.8381)\n",
      "\n",
      "\n",
      "Epoch  12\n",
      "Train Loss 0.3778734483571449\n",
      "Test Loss tensor(0.4603)\n",
      "Test Acuracy  tensor(0.8478)\n",
      "\n",
      "\n",
      "Epoch  13\n",
      "Train Loss 0.3785088009067944\n",
      "Test Loss tensor(0.4723)\n",
      "Test Acuracy  tensor(0.8436)\n",
      "\n",
      "\n",
      "Epoch  14\n",
      "Train Loss 0.3730039263505544\n",
      "Test Loss tensor(0.4562)\n",
      "Test Acuracy  tensor(0.8544)\n",
      "\n",
      "\n",
      "Epoch  15\n",
      "Train Loss 0.37036457406813655\n",
      "Test Loss tensor(0.4769)\n",
      "Test Acuracy  tensor(0.8504)\n",
      "\n",
      "\n",
      "Epoch  16\n",
      "Train Loss 0.36217465558285905\n",
      "Test Loss tensor(0.4467)\n",
      "Test Acuracy  tensor(0.8511)\n",
      "\n",
      "\n",
      "Epoch  17\n",
      "Train Loss 0.3649929146935691\n",
      "Test Loss tensor(0.4380)\n",
      "Test Acuracy  tensor(0.8578)\n",
      "\n",
      "\n",
      "Epoch  18\n",
      "Train Loss 0.36847497215434943\n",
      "Test Loss tensor(0.4717)\n",
      "Test Acuracy  tensor(0.8489)\n",
      "\n",
      "\n",
      "Epoch  19\n",
      "Train Loss 0.36413484654510453\n",
      "Test Loss tensor(0.4742)\n",
      "Test Acuracy  tensor(0.8392)\n",
      "\n",
      "\n",
      "Epoch  20\n",
      "Train Loss 0.3546042534620015\n",
      "Test Loss tensor(0.4806)\n",
      "Test Acuracy  tensor(0.8435)\n",
      "\n",
      "\n",
      "Epoch  21\n",
      "Train Loss 0.3554134104551791\n",
      "Test Loss tensor(0.4549)\n",
      "Test Acuracy  tensor(0.8519)\n",
      "\n",
      "\n",
      "Epoch  22\n",
      "Train Loss 0.3550808990179603\n",
      "Test Loss tensor(0.4477)\n",
      "Test Acuracy  tensor(0.8573)\n",
      "\n",
      "\n",
      "Epoch  23\n",
      "Train Loss 0.35046091416814945\n",
      "Test Loss tensor(0.4554)\n",
      "Test Acuracy  tensor(0.8507)\n",
      "\n",
      "\n",
      "Epoch  24\n",
      "Train Loss 0.34837170251841737\n",
      "Test Loss tensor(0.4590)\n",
      "Test Acuracy  tensor(0.8616)\n",
      "\n",
      "\n",
      "Epoch  25\n",
      "Train Loss 0.3477236379756094\n",
      "Test Loss tensor(0.4429)\n",
      "Test Acuracy  tensor(0.8575)\n",
      "\n",
      "\n",
      "Epoch  26\n",
      "Train Loss 0.3521457865024045\n",
      "Test Loss tensor(0.4336)\n",
      "Test Acuracy  tensor(0.8556)\n",
      "\n",
      "\n",
      "Epoch  27\n",
      "Train Loss 0.3369754463561308\n",
      "Test Loss tensor(0.4640)\n",
      "Test Acuracy  tensor(0.8520)\n",
      "\n",
      "\n",
      "Epoch  28\n",
      "Train Loss 0.34855565193619553\n",
      "Test Loss tensor(0.4382)\n",
      "Test Acuracy  tensor(0.8589)\n",
      "\n",
      "\n",
      "Epoch  29\n",
      "Train Loss 0.33980951746548416\n",
      "Test Loss tensor(0.4574)\n",
      "Test Acuracy  tensor(0.8592)\n",
      "\n",
      "\n"
     ]
    }
   ],
   "source": [
    "model = Classifier()\n",
    "criterion = nn.NLLLoss()\n",
    "optimizer = optim.Adam(model.parameters(), lr=0.003)\n",
    "\n",
    "epochs = 30\n",
    "steps = 0\n",
    "\n",
    "train_losses, test_losses = [], []\n",
    "for e in range(epochs):\n",
    "    print(\"Epoch \",e)\n",
    "    running_loss = 0\n",
    "    for images, labels in trainloader:\n",
    "        \n",
    "        optimizer.zero_grad()\n",
    "        \n",
    "        log_ps = model(images)\n",
    "        loss = criterion(log_ps, labels)\n",
    "        loss.backward()\n",
    "        optimizer.step()\n",
    "        \n",
    "        running_loss += loss.item()\n",
    "        \n",
    "    else:\n",
    "        ## TODO: Implement the validation pass and print out the validation accuracy\n",
    "        test_loss = 0\n",
    "        accuracy = 0\n",
    "        \n",
    "        with torch.no_grad():\n",
    "            for images, labels in testloader:\n",
    "                log_ps = model(images)\n",
    "                test_loss += criterion(log_ps, labels)\n",
    "                \n",
    "                ps = torch.exp(log_ps)\n",
    "                top_p, top_class = ps.topk(1, dim=1)\n",
    "                equals = top_class == labels.view(*top_class.shape)\n",
    "                accuracy += torch.mean(equals.type(torch.FloatTensor))\n",
    "                \n",
    "        train_losses.append(running_loss/len(trainloader))\n",
    "        test_losses.append(test_loss/len(testloader))\n",
    "                \n",
    "        print(\"Train Loss\", train_losses[e])\n",
    "        print(\"Test Loss\", test_losses[e])\n",
    "        print(\"Test Acuracy \", accuracy/len(testloader))\n",
    "        print(\"\\n\")"
   ]
  },
  {
   "cell_type": "code",
   "execution_count": 36,
   "metadata": {},
   "outputs": [],
   "source": [
    "%matplotlib inline\n",
    "%config InlineBackend.figure_format = 'retina'\n",
    "\n",
    "import matplotlib.pyplot as plt"
   ]
  },
  {
   "cell_type": "code",
   "execution_count": 37,
   "metadata": {},
   "outputs": [
    {
     "data": {
      "text/plain": [
       "<matplotlib.legend.Legend at 0x7f1eb91dcef0>"
      ]
     },
     "execution_count": 37,
     "metadata": {},
     "output_type": "execute_result"
    },
    {
     "data": {
      "image/png": "[encoded data removed]",
      "text/plain": [
       "<matplotlib.figure.Figure at 0x7f1eb943b710>"
      ]
     },
     "metadata": {
      "image/png": {
       "height": 250,
       "width": 380
      },
      "needs_background": "light"
     },
     "output_type": "display_data"
    }
   ],
   "source": [
    "plt.plot(train_losses, label='Training loss')\n",
    "plt.plot(test_losses, label='Validation loss')\n",
    "plt.legend(frameon=False)"
   ]
  },
  {
   "cell_type": "markdown",
   "metadata": {},
   "source": [
    "## Overfitting\n",
    "\n",
    "If we look at the training and validation losses as we train the network, we can see a phenomenon known as overfitting.\n",
    "\n",
    "<img src='assets/overfitting.png' width=450px>\n",
    "\n",
    "The network learns the training set better and better, resulting in lower training losses. However, it starts having problems generalizing to data outside the training set leading to the validation loss increasing. The ultimate goal of any deep learning model is to make predictions on new data, so we should strive to get the lowest validation loss possible. One option is to use the version of the model with the lowest validation loss, here the one around 8-10 training epochs. This strategy is called *early-stopping*. In practice, you'd save the model frequently as you're training then later choose the model with the lowest validation loss.\n",
    "\n",
    "The most common method to reduce overfitting (outside of early-stopping) is *dropout*, where we randomly drop input units. This forces the network to share information between weights, increasing it's ability to generalize to new data. Adding dropout in PyTorch is straightforward using the [`nn.Dropout`](https://pytorch.org/docs/stable/nn.html#torch.nn.Dropout) module.\n",
    "\n",
    "```python\n",
    "class Classifier(nn.Module):\n",
    "    def __init__(self):\n",
    "        super().__init__()\n",
    "        self.fc1 = nn.Linear(784, 256)\n",
    "        self.fc2 = nn.Linear(256, 128)\n",
    "        self.fc3 = nn.Linear(128, 64)\n",
    "        self.fc4 = nn.Linear(64, 10)\n",
    "        \n",
    "        # Dropout module with 0.2 drop probability\n",
    "        self.dropout = nn.Dropout(p=0.2)\n",
    "        \n",
    "    def forward(self, x):\n",
    "        # make sure input tensor is flattened\n",
    "        x = x.view(x.shape[0], -1)\n",
    "        \n",
    "        # Now with dropout\n",
    "        x = self.dropout(F.relu(self.fc1(x)))\n",
    "        x = self.dropout(F.relu(self.fc2(x)))\n",
    "        x = self.dropout(F.relu(self.fc3(x)))\n",
    "        \n",
    "        # output so no dropout here\n",
    "        x = F.log_softmax(self.fc4(x), dim=1)\n",
    "        \n",
    "        return x\n",
    "```\n",
    "\n",
    "During training we want to use dropout to prevent overfitting, but during inference we want to use the entire network. So, we need to turn off dropout during validation, testing, and whenever we're using the network to make predictions. To do this, you use `model.eval()`. This sets the model to evaluation mode where the dropout probability is 0. You can turn dropout back on by setting the model to train mode with `model.train()`. In general, the pattern for the validation loop will look like this, where you turn off gradients, set the model to evaluation mode, calculate the validation loss and metric, then set the model back to train mode.\n",
    "\n",
    "```python\n",
    "# turn off gradients\n",
    "with torch.no_grad():\n",
    "    \n",
    "    # set model to evaluation mode\n",
    "    model.eval()\n",
    "    \n",
    "    # validation pass here\n",
    "    for images, labels in testloader:\n",
    "        ...\n",
    "\n",
    "# set model back to train mode\n",
    "model.train()\n",
    "```"
   ]
  },
  {
   "cell_type": "markdown",
   "metadata": {},
   "source": [
    "> **Exercise:** Add dropout to your model and train it on Fashion-MNIST again. See if you can get a lower validation loss or higher accuracy."
   ]
  },
  {
   "cell_type": "code",
   "execution_count": 40,
   "metadata": {},
   "outputs": [],
   "source": [
    "class Classifier(nn.Module):\n",
    "    def __init__(self):\n",
    "        super().__init__()\n",
    "        self.fc1 = nn.Linear(784, 256)\n",
    "        self.fc2 = nn.Linear(256, 128)\n",
    "        self.fc3 = nn.Linear(128, 64)\n",
    "        self.fc4 = nn.Linear(64, 10)\n",
    "\n",
    "        # Dropout module with 0.2 drop probability\n",
    "        self.dropout = nn.Dropout(p=0.2)\n",
    "\n",
    "    def forward(self, x):\n",
    "        # make sure input tensor is flattened\n",
    "        x = x.view(x.shape[0], -1)\n",
    "\n",
    "        # Now with dropout\n",
    "        x = self.dropout(F.relu(self.fc1(x)))\n",
    "        x = self.dropout(F.relu(self.fc2(x)))\n",
    "        x = self.dropout(F.relu(self.fc3(x)))\n",
    "\n",
    "        # output so no dropout here\n",
    "        x = F.log_softmax(self.fc4(x), dim=1)\n",
    "\n",
    "        return x"
   ]
  },
  {
   "cell_type": "code",
   "execution_count": 41,
   "metadata": {},
   "outputs": [
    {
     "name": "stdout",
     "output_type": "stream",
     "text": [
      "Epoch  0\n",
      "Train Loss 0.609156375294174\n",
      "Test Loss tensor(0.4681)\n",
      "Test Acuracy  tensor(0.8361)\n",
      "\n",
      "\n",
      "Epoch  1\n",
      "Train Loss 0.479593939570857\n",
      "Test Loss tensor(0.4210)\n",
      "Test Acuracy  tensor(0.8449)\n",
      "\n",
      "\n",
      "Epoch  2\n",
      "Train Loss 0.4435160312094668\n",
      "Test Loss tensor(0.4270)\n",
      "Test Acuracy  tensor(0.8474)\n",
      "\n",
      "\n",
      "Epoch  3\n",
      "Train Loss 0.4281682364944456\n",
      "Test Loss tensor(0.4024)\n",
      "Test Acuracy  tensor(0.8565)\n",
      "\n",
      "\n",
      "Epoch  4\n",
      "Train Loss 0.4296537024983719\n",
      "Test Loss tensor(0.4445)\n",
      "Test Acuracy  tensor(0.8461)\n",
      "\n",
      "\n",
      "Epoch  5\n",
      "Train Loss 0.40824037567893073\n",
      "Test Loss tensor(0.4048)\n",
      "Test Acuracy  tensor(0.8538)\n",
      "\n",
      "\n",
      "Epoch  6\n",
      "Train Loss 0.40699823014835307\n",
      "Test Loss tensor(0.4206)\n",
      "Test Acuracy  tensor(0.8472)\n",
      "\n",
      "\n",
      "Epoch  7\n",
      "Train Loss 0.3928521716995026\n",
      "Test Loss tensor(0.3905)\n",
      "Test Acuracy  tensor(0.8661)\n",
      "\n",
      "\n",
      "Epoch  8\n",
      "Train Loss 0.39346113677090927\n",
      "Test Loss tensor(0.3817)\n",
      "Test Acuracy  tensor(0.8654)\n",
      "\n",
      "\n",
      "Epoch  9\n",
      "Train Loss 0.3915847295573525\n",
      "Test Loss tensor(0.3786)\n",
      "Test Acuracy  tensor(0.8679)\n",
      "\n",
      "\n",
      "Epoch  10\n",
      "Train Loss 0.38568871965540497\n",
      "Test Loss tensor(0.3798)\n",
      "Test Acuracy  tensor(0.8646)\n",
      "\n",
      "\n",
      "Epoch  11\n",
      "Train Loss 0.381920124707954\n",
      "Test Loss tensor(0.3854)\n",
      "Test Acuracy  tensor(0.8605)\n",
      "\n",
      "\n",
      "Epoch  12\n",
      "Train Loss 0.38496157358577254\n",
      "Test Loss tensor(0.3853)\n",
      "Test Acuracy  tensor(0.8653)\n",
      "\n",
      "\n",
      "Epoch  13\n",
      "Train Loss 0.37320149923438456\n",
      "Test Loss tensor(0.3827)\n",
      "Test Acuracy  tensor(0.8732)\n",
      "\n",
      "\n",
      "Epoch  14\n",
      "Train Loss 0.37655241032843906\n",
      "Test Loss tensor(0.3761)\n",
      "Test Acuracy  tensor(0.8673)\n",
      "\n",
      "\n",
      "Epoch  15\n",
      "Train Loss 0.36878707734093485\n",
      "Test Loss tensor(0.3948)\n",
      "Test Acuracy  tensor(0.8655)\n",
      "\n",
      "\n",
      "Epoch  16\n",
      "Train Loss 0.35908046278204997\n",
      "Test Loss tensor(0.3871)\n",
      "Test Acuracy  tensor(0.8642)\n",
      "\n",
      "\n",
      "Epoch  17\n",
      "Train Loss 0.36465908617956805\n",
      "Test Loss tensor(0.3765)\n",
      "Test Acuracy  tensor(0.8707)\n",
      "\n",
      "\n",
      "Epoch  18\n",
      "Train Loss 0.3631199123476868\n",
      "Test Loss tensor(0.3929)\n",
      "Test Acuracy  tensor(0.8649)\n",
      "\n",
      "\n",
      "Epoch  19\n",
      "Train Loss 0.36660600182757197\n",
      "Test Loss tensor(0.3979)\n",
      "Test Acuracy  tensor(0.8638)\n",
      "\n",
      "\n",
      "Epoch  20\n",
      "Train Loss 0.3558776798024615\n",
      "Test Loss tensor(0.3842)\n",
      "Test Acuracy  tensor(0.8698)\n",
      "\n",
      "\n",
      "Epoch  21\n",
      "Train Loss 0.3500014158771999\n",
      "Test Loss tensor(0.3904)\n",
      "Test Acuracy  tensor(0.8734)\n",
      "\n",
      "\n",
      "Epoch  22\n",
      "Train Loss 0.348556802923809\n",
      "Test Loss tensor(0.3895)\n",
      "Test Acuracy  tensor(0.8691)\n",
      "\n",
      "\n",
      "Epoch  23\n",
      "Train Loss 0.3594412392199929\n",
      "Test Loss tensor(0.3875)\n",
      "Test Acuracy  tensor(0.8727)\n",
      "\n",
      "\n",
      "Epoch  24\n",
      "Train Loss 0.34933402116841344\n",
      "Test Loss tensor(0.3833)\n",
      "Test Acuracy  tensor(0.8739)\n",
      "\n",
      "\n",
      "Epoch  25\n",
      "Train Loss 0.34909402439271464\n",
      "Test Loss tensor(0.3671)\n",
      "Test Acuracy  tensor(0.8795)\n",
      "\n",
      "\n",
      "Epoch  26\n",
      "Train Loss 0.34729344678172935\n",
      "Test Loss tensor(0.3847)\n",
      "Test Acuracy  tensor(0.8665)\n",
      "\n",
      "\n",
      "Epoch  27\n",
      "Train Loss 0.34064895538156476\n",
      "Test Loss tensor(0.3733)\n",
      "Test Acuracy  tensor(0.8762)\n",
      "\n",
      "\n",
      "Epoch  28\n",
      "Train Loss 0.3496615795343161\n",
      "Test Loss tensor(0.3876)\n",
      "Test Acuracy  tensor(0.8735)\n",
      "\n",
      "\n",
      "Epoch  29\n",
      "Train Loss 0.3359286325382017\n",
      "Test Loss tensor(0.3792)\n",
      "Test Acuracy  tensor(0.8744)\n",
      "\n",
      "\n"
     ]
    }
   ],
   "source": [
    "model = Classifier()\n",
    "criterion = nn.NLLLoss()\n",
    "optimizer = optim.Adam(model.parameters(), lr=0.003)\n",
    "\n",
    "epochs = 30\n",
    "steps = 0\n",
    "\n",
    "train_losses, test_losses = [], []\n",
    "for e in range(epochs):\n",
    "    print(\"Epoch \",e)\n",
    "    running_loss = 0\n",
    "    for images, labels in trainloader:\n",
    "        \n",
    "        optimizer.zero_grad()\n",
    "        \n",
    "        log_ps = model(images)\n",
    "        loss = criterion(log_ps, labels)\n",
    "        loss.backward()\n",
    "        optimizer.step()\n",
    "        \n",
    "        running_loss += loss.item()\n",
    "        \n",
    "    else:\n",
    "        ## TODO: Implement the validation pass and print out the validation accuracy\n",
    "        test_loss = 0\n",
    "        accuracy = 0\n",
    "        \n",
    "        with torch.no_grad():\n",
    "            model.eval()\n",
    "            for images, labels in testloader:\n",
    "                log_ps = model(images)\n",
    "                test_loss += criterion(log_ps, labels)\n",
    "                \n",
    "                ps = torch.exp(log_ps)\n",
    "                top_p, top_class = ps.topk(1, dim=1)\n",
    "                equals = top_class == labels.view(*top_class.shape)\n",
    "                accuracy += torch.mean(equals.type(torch.FloatTensor))\n",
    "                \n",
    "        model.train()\n",
    "                \n",
    "        train_losses.append(running_loss/len(trainloader))\n",
    "        test_losses.append(test_loss/len(testloader))\n",
    "                \n",
    "        print(\"Train Loss\", train_losses[e])\n",
    "        print(\"Test Loss\", test_losses[e])\n",
    "        print(\"Test Acuracy \", accuracy/len(testloader))\n",
    "        print(\"\\n\")"
   ]
  },
  {
   "cell_type": "code",
   "execution_count": 42,
   "metadata": {},
   "outputs": [],
   "source": [
    "%matplotlib inline\n",
    "%config InlineBackend.figure_format = 'retina'\n",
    "\n",
    "import matplotlib.pyplot as plt"
   ]
  },
  {
   "cell_type": "code",
   "execution_count": 43,
   "metadata": {},
   "outputs": [
    {
     "data": {
      "text/plain": [
       "<matplotlib.legend.Legend at 0x7f1eb8f91f28>"
      ]
     },
     "execution_count": 43,
     "metadata": {},
     "output_type": "execute_result"
    },
    {
     "data": {
      "image/png": "[encoded data removed]",
      "text/plain": [
       "<matplotlib.figure.Figure at 0x7f1eb8f82f60>"
      ]
     },
     "metadata": {
      "image/png": {
       "height": 250,
       "width": 380
      },
      "needs_background": "light"
     },
     "output_type": "display_data"
    }
   ],
   "source": [
    "plt.plot(train_losses, label='Training loss')\n",
    "plt.plot(test_losses, label='Validation loss')\n",
    "plt.legend(frameon=False)"
   ]
  },
  {
   "cell_type": "markdown",
   "metadata": {},
   "source": [
    "## Inference\n",
    "\n",
    "Now that the model is trained, we can use it for inference. We've done this before, but now we need to remember to set the model in inference mode with `model.eval()`. You'll also want to turn off autograd with the `torch.no_grad()` context."
   ]
  },
  {
   "cell_type": "code",
   "execution_count": 44,
   "metadata": {},
   "outputs": [
    {
     "data": {
      "image/png": "[encoded data removed]",
      "text/plain": [
       "<matplotlib.figure.Figure at 0x7f1eb8f820f0>"
      ]
     },
     "metadata": {
      "image/png": {
       "height": 204,
       "width": 423
      },
      "needs_background": "light"
     },
     "output_type": "display_data"
    }
   ],
   "source": [
    "# Import helper module (should be in the repo)\n",
    "import helper\n",
    "\n",
    "# Test out your network!\n",
    "\n",
    "model.eval()\n",
    "\n",
    "dataiter = iter(testloader)\n",
    "images, labels = dataiter.next()\n",
    "img = images[0]\n",
    "# Convert 2D image to 1D vector\n",
    "img = img.view(1, 784)\n",
    "\n",
    "# Calculate the class probabilities (softmax) for img\n",
    "with torch.no_grad():\n",
    "    output = model.forward(img)\n",
    "\n",
    "ps = torch.exp(output)\n",
    "\n",
    "# Plot the image and probabilities\n",
    "helper.view_classify(img.view(1, 28, 28), ps, version='Fashion')"
   ]
  },
  {
   "cell_type": "markdown",
   "metadata": {},
   "source": [
    "## Next Up!\n",
    "\n",
    "In the next part, I'll show you how to save your trained models. In general, you won't want to train a model everytime you need it. Instead, you'll train once, save it, then load the model when you want to train more or use if for inference."
   ]
  }
 ],
 "metadata": {
  "kernelspec": {
   "display_name": "Python 3",
   "language": "python",
   "name": "python3"
  },
  "language_info": {
   "codemirror_mode": {
    "name": "ipython",
    "version": 3
   },
   "file_extension": ".py",
   "mimetype": "text/x-python",
   "name": "python",
   "nbconvert_exporter": "python",
   "pygments_lexer": "ipython3",
   "version": "3.6.3"
  }
 },
 "nbformat": 4,
 "nbformat_minor": 2
}
