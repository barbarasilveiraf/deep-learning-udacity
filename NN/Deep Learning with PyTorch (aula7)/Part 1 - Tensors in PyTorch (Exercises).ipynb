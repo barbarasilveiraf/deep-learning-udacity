{
 "cells": [
  {
   "cell_type": "code",
   "execution_count": 59,
   "metadata": {},
   "outputs": [
    {
     "name": "stdout",
     "output_type": "stream",
     "text": [
      "altair==1.2.1\r\n",
      "asn1crypto==0.22.0\r\n",
      "atari-py==0.1.7\r\n",
      "atomicwrites==1.3.0\r\n",
      "attrs==19.1.0\r\n",
      "audioread==2.1.6\r\n",
      "av==0.3.3\r\n",
      "awscli==1.16.17\r\n",
      "backcall==0.1.0\r\n",
      "backports.functools-lru-cache==1.4\r\n",
      "backports.weakref==1.0rc1\r\n",
      "beautifulsoup4==4.6.0\r\n",
      "bleach==1.5.0\r\n",
      "blinker==1.4\r\n",
      "bokeh==0.12.13\r\n",
      "boto==2.48.0\r\n",
      "boto3==1.9.7\r\n",
      "botocore==1.12.7\r\n",
      "Box2D==2.3.2\r\n",
      "Box2D-kengz==2.3.3\r\n",
      "bresenham==0.2\r\n",
      "bz2file==0.98\r\n",
      "cassandra-driver==3.11.0\r\n",
      "certifi==2019.11.28\r\n",
      "cffi==1.11.2\r\n",
      "chardet==3.0.4\r\n",
      "click==6.7\r\n",
      "cloudpickle==0.2.2\r\n",
      "colorama==0.3.9\r\n",
      "colour==0.1.5\r\n",
      "conda==4.6.14\r\n",
      "cryptography==2.1.4\r\n",
      "cycler==0.10.0\r\n",
      "Cython==0.29.7\r\n",
      "cytoolz==0.9.0.1\r\n",
      "dask==0.16.1\r\n",
      "decorator==4.0.11\r\n",
      "defusedxml==0.5.0\r\n",
      "dill==0.2.7.1\r\n",
      "docutils==0.14\r\n",
      "dronekit==2.9.2\r\n",
      "entrypoints==0.2.3\r\n",
      "et-xmlfile==1.0.1\r\n",
      "eventlet==0.22.0\r\n",
      "fastcache==1.0.2\r\n",
      "Flask==0.12.2\r\n",
      "Flask-SocketIO==2.9.2\r\n",
      "future==0.16.0\r\n",
      "gensim==3.4.0\r\n",
      "glfw==1.8.0\r\n",
      "greenlet==0.4.12\r\n",
      "gym==0.9.6\r\n",
      "h5py==2.7.1\r\n",
      "heapdict==1.0.0\r\n",
      "html2text==2018.1.9\r\n",
      "html5lib==0.9999999\r\n",
      "idna==2.6\r\n",
      "imageio==2.1.2\r\n",
      "ipykernel==4.9.0\r\n",
      "ipython==6.5.0\r\n",
      "ipython-genutils==0.2.0\r\n",
      "ipython-sql==0.3.9\r\n",
      "ipywidgets==7.0.5\r\n",
      "itsdangerous==0.24\r\n",
      "jdc==0.0.8\r\n",
      "jdcal==1.3\r\n",
      "jedi==0.10.2\r\n",
      "jieba==0.39\r\n",
      "Jinja2==2.10\r\n",
      "jmespath==0.9.3\r\n",
      "joblib==0.11\r\n",
      "json5==0.8.5\r\n",
      "jsonschema==2.6.0\r\n",
      "jupyter-client==5.2.4\r\n",
      "jupyter-core==4.4.0\r\n",
      "jupyterlab==1.0.9\r\n",
      "jupyterlab-server==1.0.0\r\n",
      "Keras==2.0.9\r\n",
      "librosa==0.5.1\r\n",
      "llvmlite==0.20.0\r\n",
      "locket==0.2.0\r\n",
      "lockfile==0.12.2\r\n",
      "lxml==4.1.1\r\n",
      "Mako==1.0.7\r\n",
      "Markdown==2.6.9\r\n",
      "MarkupSafe==1.0\r\n",
      "matplotlib==2.1.0\r\n",
      "mistune==0.8.3\r\n",
      "mock==2.0.0\r\n",
      "monotonic==1.3\r\n",
      "more-itertools==7.0.0\r\n",
      "moviepy==0.2.3.2\r\n",
      "msgpack==0.5.6\r\n",
      "msgpack-python==0.4.8\r\n",
      "mujoco-py==1.50.1.59\r\n",
      "nbconvert==5.4.0\r\n",
      "nbformat==4.4.0\r\n",
      "nbzip==0.1.0\r\n",
      "networkx==1.11\r\n",
      "nltk==3.2.5\r\n",
      "notebook==5.7.0\r\n",
      "numba==0.35.0\r\n",
      "numexpr==2.6.4\r\n",
      "numpy==1.12.1\r\n",
      "oauthlib==2.0.6\r\n",
      "olefile==0.44\r\n",
      "openpyxl==2.5.0b1\r\n",
      "packaging==16.8\r\n",
      "pandas==0.23.3\r\n",
      "pandocfilters==1.4.1\r\n",
      "parso==0.4.0\r\n",
      "partd==0.3.8\r\n",
      "patsy==0.4.1\r\n",
      "pbr==3.1.1\r\n",
      "pexpect==4.3.1\r\n",
      "pickleshare==0.7.4\r\n",
      "Pillow==5.2.0\r\n",
      "pinyin==0.4.0\r\n",
      "plotly==2.0.15\r\n",
      "pluggy==0.11.0\r\n",
      "pomegranate==0.9.0\r\n",
      "prettytable==0.7.2\r\n",
      "prometheus-client==0.3.1\r\n",
      "prompt-toolkit==1.0.15\r\n",
      "protobuf==3.5.1\r\n",
      "psutil==5.4.0\r\n",
      "psycopg2==2.7.4\r\n",
      "ptyprocess==0.5.2\r\n",
      "py==1.8.0\r\n",
      "py4j==0.10.7\r\n",
      "pyasn1==0.4.4\r\n",
      "pycosat==0.6.3\r\n",
      "pycparser==2.18\r\n",
      "pycurl==7.43.0\r\n",
      "pydot==1.2.4\r\n",
      "pydotplus==2.0.2\r\n",
      "pyglet==1.3.0\r\n",
      "Pygments==2.2.0\r\n",
      "pygpu==0.7.5\r\n",
      "PyJWT==1.5.3\r\n",
      "pymavlink==2.2.20\r\n",
      "pymc3==3.2\r\n",
      "PyOpenGL==3.1.0\r\n",
      "pyOpenSSL==17.4.0\r\n",
      "pyparsing==2.2.0\r\n",
      "pyrsistent==0.15.2\r\n",
      "PySocks==1.6.8\r\n",
      "pyspark==2.4.3\r\n",
      "pytest==4.5.0\r\n",
      "python-crfsuite==0.9.2\r\n",
      "python-dateutil==2.6.1\r\n",
      "python-engineio==2.0.2\r\n",
      "python-socketio==1.8.4\r\n",
      "python-speech-features==0.6\r\n",
      "pytz==2017.3\r\n",
      "PyWavelets==0.5.2\r\n",
      "PyYAML==3.12\r\n",
      "pyzmq==17.1.2\r\n",
      "requests==2.18.4\r\n",
      "requests-oauthlib==0.8.0\r\n",
      "requests-toolbelt==0.9.1\r\n",
      "resampy==0.2.0\r\n",
      "rsa==3.4.2\r\n",
      "ruamel-yaml==0.11.14\r\n",
      "s3transfer==0.1.13\r\n",
      "scikit-image==0.14.2\r\n",
      "scikit-learn==0.19.1\r\n",
      "scipy==1.2.1\r\n",
      "seaborn==0.8.1\r\n",
      "SeekWell==0.1\r\n",
      "Send2Trash==1.5.0\r\n",
      "Shapely==1.6.4.post1\r\n",
      "simplegeneric==0.8.1\r\n",
      "SimpleWebSocketServer==0.1.1\r\n",
      "six==1.11.0\r\n",
      "smart-open==1.5.6\r\n",
      "snownlp==0.12.3\r\n",
      "SoundFile==0.9.0.post1\r\n",
      "SQLAlchemy==1.1.13\r\n",
      "sqlparse==0.3.0\r\n",
      "statsmodels==0.8.0\r\n",
      "sympy==1.0\r\n",
      "tensorflow==1.3.0\r\n",
      "terminado==0.8.1\r\n",
      "testpath==0.3.1\r\n",
      "Theano==1.0.1\r\n",
      "toolz==0.8.2\r\n",
      "torch==0.4.0\r\n",
      "torchvision==0.2.1\r\n",
      "tornado==4.5.3\r\n",
      "tqdm==4.11.2\r\n",
      "traitlets==4.3.2\r\n",
      "tweepy==3.5.0\r\n",
      "twython==3.6.0\r\n",
      "udacity-pa==0.2.9\r\n",
      "urllib3==1.22\r\n",
      "utm==0.4.2\r\n",
      "uvloop==0.8.1\r\n",
      "vega==0.4.4\r\n",
      "vincent==0.4.4\r\n",
      "wcwidth==0.1.7\r\n",
      "webencodings==0.5\r\n",
      "websockets==4.0.1\r\n",
      "Werkzeug==0.14.1\r\n",
      "widgetsnbextension==3.1.0\r\n",
      "wordcloud==1.4.1\r\n",
      "wptools==0.4.7\r\n",
      "xlrd==1.1.0\r\n"
     ]
    }
   ],
   "source": [
    "!pip freeze"
   ]
  },
  {
   "cell_type": "markdown",
   "metadata": {},
   "source": [
    "# Introduction to Deep Learning with PyTorch\n",
    "\n",
    "In this notebook, you'll get introduced to [PyTorch](http://pytorch.org/), a framework for building and training neural networks. PyTorch in a lot of ways behaves like the arrays you love from Numpy. These Numpy arrays, after all, are just tensors. PyTorch takes these tensors and makes it simple to move them to GPUs for the faster processing needed when training neural networks. It also provides a module that automatically calculates gradients (for backpropagation!) and another module specifically for building neural networks. All together, PyTorch ends up being more coherent with Python and the Numpy/Scipy stack compared to TensorFlow and other frameworks.\n",
    "\n"
   ]
  },
  {
   "cell_type": "markdown",
   "metadata": {},
   "source": [
    "## Neural Networks\n",
    "\n",
    "Deep Learning is based on artificial neural networks which have been around in some form since the late 1950s. The networks are built from individual parts approximating neurons, typically called units or simply \"neurons.\" Each unit has some number of weighted inputs. These weighted inputs are summed together (a linear combination) then passed through an activation function to get the unit's output.\n",
    "\n",
    "<img src=\"assets/simple_neuron.png\" width=400px>\n",
    "\n",
    "Mathematically this looks like: \n",
    "\n",
    "$$\n",
    "\\begin{align}\n",
    "y &= f(w_1 x_1 + w_2 x_2 + b) \\\\\n",
    "y &= f\\left(\\sum_i w_i x_i +b \\right)\n",
    "\\end{align}\n",
    "$$\n",
    "\n",
    "With vectors this is the dot/inner product of two vectors:\n",
    "\n",
    "$$\n",
    "h = \\begin{bmatrix}\n",
    "x_1 \\, x_2 \\cdots  x_n\n",
    "\\end{bmatrix}\n",
    "\\cdot \n",
    "\\begin{bmatrix}\n",
    "           w_1 \\\\\n",
    "           w_2 \\\\\n",
    "           \\vdots \\\\\n",
    "           w_n\n",
    "\\end{bmatrix}\n",
    "$$"
   ]
  },
  {
   "cell_type": "markdown",
   "metadata": {},
   "source": [
    "## Tensors\n",
    "\n",
    "It turns out neural network computations are just a bunch of linear algebra operations on *tensors*, a generalization of matrices. A vector is a 1-dimensional tensor, a matrix is a 2-dimensional tensor, an array with three indices is a 3-dimensional tensor (RGB color images for example). The fundamental data structure for neural networks are tensors and PyTorch (as well as pretty much every other deep learning framework) is built around tensors.\n",
    "\n",
    "<img src=\"assets/tensor_examples.svg\" width=600px>\n",
    "\n",
    "With the basics covered, it's time to explore how we can use PyTorch to build a simple neural network."
   ]
  },
  {
   "cell_type": "code",
   "execution_count": 1,
   "metadata": {},
   "outputs": [],
   "source": [
    "# First, import PyTorch\n",
    "import torch"
   ]
  },
  {
   "cell_type": "code",
   "execution_count": 2,
   "metadata": {},
   "outputs": [],
   "source": [
    "def activation(x):\n",
    "    \"\"\" Sigmoid activation function \n",
    "    \n",
    "        Arguments\n",
    "        ---------\n",
    "        x: torch.Tensor\n",
    "    \"\"\"\n",
    "    return 1/(1+torch.exp(-x))"
   ]
  },
  {
   "cell_type": "code",
   "execution_count": 3,
   "metadata": {},
   "outputs": [],
   "source": [
    "### Generate some data\n",
    "torch.manual_seed(7) # Set the random seed so things are predictable\n",
    "\n",
    "# Features are 3 random normal variables\n",
    "features = torch.randn((1, 5))\n",
    "# True weights for our data, random normal variables again\n",
    "weights = torch.randn_like(features)\n",
    "# and a true bias term\n",
    "bias = torch.randn((1, 1))"
   ]
  },
  {
   "cell_type": "code",
   "execution_count": 8,
   "metadata": {},
   "outputs": [
    {
     "data": {
      "text/plain": [
       "tensor([[-0.8948, -0.3556,  1.2324,  0.1382, -1.6822]])"
      ]
     },
     "execution_count": 8,
     "metadata": {},
     "output_type": "execute_result"
    }
   ],
   "source": [
    "weights"
   ]
  },
  {
   "cell_type": "markdown",
   "metadata": {},
   "source": [
    "Above I generated data we can use to get the output of our simple network. This is all just random for now, going forward we'll start using normal data. Going through each relevant line:\n",
    "\n",
    "`features = torch.randn((1, 5))` creates a tensor with shape `(1, 5)`, one row and five columns, that contains values randomly distributed according to the normal distribution with a mean of zero and standard deviation of one. \n",
    "\n",
    "`weights = torch.randn_like(features)` creates another tensor with the same shape as `features`, again containing values from a normal distribution.\n",
    "\n",
    "Finally, `bias = torch.randn((1, 1))` creates a single value from a normal distribution.\n",
    "\n",
    "PyTorch tensors can be added, multiplied, subtracted, etc, just like Numpy arrays. In general, you'll use PyTorch tensors pretty much the same way you'd use Numpy arrays. They come with some nice benefits though such as GPU acceleration which we'll get to later. For now, use the generated data to calculate the output of this simple single layer network. \n",
    "> **Exercise**: Calculate the output of the network with input features `features`, weights `weights`, and bias `bias`. Similar to Numpy, PyTorch has a [`torch.sum()`](https://pytorch.org/docs/stable/torch.html#torch.sum) function, as well as a `.sum()` method on tensors, for taking sums. Use the function `activation` defined above as the activation function."
   ]
  },
  {
   "cell_type": "code",
   "execution_count": 22,
   "metadata": {},
   "outputs": [
    {
     "data": {
      "text/plain": [
       "tensor([[ 0.1595]])"
      ]
     },
     "execution_count": 22,
     "metadata": {},
     "output_type": "execute_result"
    }
   ],
   "source": [
    "## Calculate the output of this network using the weights and bias tensors\n",
    "y = activation(torch.sum(features*weights)+bias)\n",
    "y"
   ]
  },
  {
   "cell_type": "markdown",
   "metadata": {},
   "source": [
    "You can do the multiplication and sum in the same operation using a matrix multiplication. In general, you'll want to use matrix multiplications since they are more efficient and accelerated using modern libraries and high-performance computing on GPUs.\n",
    "\n",
    "Here, we want to do a matrix multiplication of the features and the weights. For this we can use [`torch.mm()`](https://pytorch.org/docs/stable/torch.html#torch.mm) or [`torch.matmul()`](https://pytorch.org/docs/stable/torch.html#torch.matmul) which is somewhat more complicated and supports broadcasting. If we try to do it with `features` and `weights` as they are, we'll get an error\n",
    "\n",
    "```python\n",
    ">> torch.mm(features, weights)\n",
    "\n",
    "---------------------------------------------------------------------------\n",
    "RuntimeError                              Traceback (most recent call last)\n",
    "<ipython-input-13-15d592eb5279> in <module>()\n",
    "----> 1 torch.mm(features, weights)\n",
    "\n",
    "RuntimeError: size mismatch, m1: [1 x 5], m2: [1 x 5] at /Users/soumith/minicondabuild3/conda-bld/pytorch_1524590658547/work/aten/src/TH/generic/THTensorMath.c:2033\n",
    "```\n",
    "\n",
    "As you're building neural networks in any framework, you'll see this often. Really often. What's happening here is our tensors aren't the correct shapes to perform a matrix multiplication. Remember that for matrix multiplications, the number of columns in the first tensor must equal to the number of rows in the second column. Both `features` and `weights` have the same shape, `(1, 5)`. This means we need to change the shape of `weights` to get the matrix multiplication to work.\n",
    "\n",
    "**Note:** To see the shape of a tensor called `tensor`, use `tensor.shape`. If you're building neural networks, you'll be using this method often.\n",
    "\n",
    "There are a few options here: [`weights.reshape()`](https://pytorch.org/docs/stable/tensors.html#torch.Tensor.reshape), [`weights.resize_()`](https://pytorch.org/docs/stable/tensors.html#torch.Tensor.resize_), and [`weights.view()`](https://pytorch.org/docs/stable/tensors.html#torch.Tensor.view).\n",
    "\n",
    "* `weights.reshape(a, b)` will return a new tensor with the same data as `weights` with size `(a, b)` sometimes, and sometimes a clone, as in it copies the data to another part of memory.\n",
    "* `weights.resize_(a, b)` returns the same tensor with a different shape. However, if the new shape results in fewer elements than the original tensor, some elements will be removed from the tensor (but not from memory). If the new shape results in more elements than the original tensor, new elements will be uninitialized in memory. Here I should note that the underscore at the end of the method denotes that this method is performed **in-place**. Here is a great forum thread to [read more about in-place operations](https://discuss.pytorch.org/t/what-is-in-place-operation/16244) in PyTorch.\n",
    "* `weights.view(a, b)` will return a new tensor with the same data as `weights` with size `(a, b)`.\n",
    "\n",
    "I usually use `.view()`, but any of the three methods will work for this. So, now we can reshape `weights` to have five rows and one column with something like `weights.view(5, 1)`.\n",
    "\n",
    "> **Exercise**: Calculate the output of our little network using matrix multiplication."
   ]
  },
  {
   "cell_type": "code",
   "execution_count": 24,
   "metadata": {},
   "outputs": [
    {
     "data": {
      "text/plain": [
       "torch.Size([1, 5])"
      ]
     },
     "execution_count": 24,
     "metadata": {},
     "output_type": "execute_result"
    }
   ],
   "source": [
    "features.shape"
   ]
  },
  {
   "cell_type": "code",
   "execution_count": 30,
   "metadata": {},
   "outputs": [
    {
     "data": {
      "text/plain": [
       "torch.Size([1, 5])"
      ]
     },
     "execution_count": 30,
     "metadata": {},
     "output_type": "execute_result"
    }
   ],
   "source": [
    "weights.shape"
   ]
  },
  {
   "cell_type": "code",
   "execution_count": 31,
   "metadata": {},
   "outputs": [
    {
     "data": {
      "text/plain": [
       "tensor([[-0.8948],\n",
       "        [-0.3556],\n",
       "        [ 1.2324],\n",
       "        [ 0.1382],\n",
       "        [-1.6822]])"
      ]
     },
     "execution_count": 31,
     "metadata": {},
     "output_type": "execute_result"
    }
   ],
   "source": [
    "weights.view(5,1)"
   ]
  },
  {
   "cell_type": "code",
   "execution_count": 33,
   "metadata": {},
   "outputs": [
    {
     "data": {
      "text/plain": [
       "tensor([[ 0.1595]])"
      ]
     },
     "execution_count": 33,
     "metadata": {},
     "output_type": "execute_result"
    }
   ],
   "source": [
    "activation(torch.mm(features, weights.reshape(-1,1))+bias)"
   ]
  },
  {
   "cell_type": "code",
   "execution_count": null,
   "metadata": {},
   "outputs": [],
   "source": [
    "## Calculate the output of this network using matrix multiplication"
   ]
  },
  {
   "cell_type": "markdown",
   "metadata": {},
   "source": [
    "### Stack them up!\n",
    "\n",
    "That's how you can calculate the output for a single neuron. The real power of this algorithm happens when you start stacking these individual units into layers and stacks of layers, into a network of neurons. The output of one layer of neurons becomes the input for the next layer. With multiple input units and output units, we now need to express the weights as a matrix.\n",
    "\n",
    "<img src='assets/multilayer_diagram_weights.png' width=450px>\n",
    "\n",
    "The first layer shown on the bottom here are the inputs, understandably called the **input layer**. The middle layer is called the **hidden layer**, and the final layer (on the right) is the **output layer**. We can express this network mathematically with matrices again and use matrix multiplication to get linear combinations for each unit in one operation. For example, the hidden layer ($h_1$ and $h_2$ here) can be calculated \n",
    "\n",
    "$$\n",
    "\\vec{h} = [h_1 \\, h_2] = \n",
    "\\begin{bmatrix}\n",
    "x_1 \\, x_2 \\cdots \\, x_n\n",
    "\\end{bmatrix}\n",
    "\\cdot \n",
    "\\begin{bmatrix}\n",
    "           w_{11} & w_{12} \\\\\n",
    "           w_{21} &w_{22} \\\\\n",
    "           \\vdots &\\vdots \\\\\n",
    "           w_{n1} &w_{n2}\n",
    "\\end{bmatrix}\n",
    "$$\n",
    "\n",
    "The output for this small network is found by treating the hidden layer as inputs for the output unit. The network output is expressed simply\n",
    "\n",
    "$$\n",
    "y =  f_2 \\! \\left(\\, f_1 \\! \\left(\\vec{x} \\, \\mathbf{W_1}\\right) \\mathbf{W_2} \\right)\n",
    "$$"
   ]
  },
  {
   "cell_type": "code",
   "execution_count": 34,
   "metadata": {},
   "outputs": [],
   "source": [
    "### Generate some data\n",
    "torch.manual_seed(7) # Set the random seed so things are predictable\n",
    "\n",
    "# Features are 3 random normal variables\n",
    "features = torch.randn((1, 3))\n",
    "\n",
    "# Define the size of each layer in our network\n",
    "n_input = features.shape[1]     # Number of input units, must match number of input features\n",
    "n_hidden = 2                    # Number of hidden units \n",
    "n_output = 1                    # Number of output units\n",
    "\n",
    "# Weights for inputs to hidden layer\n",
    "W1 = torch.randn(n_input, n_hidden)\n",
    "# Weights for hidden layer to output layer\n",
    "W2 = torch.randn(n_hidden, n_output)\n",
    "\n",
    "# and bias terms for hidden and output layers\n",
    "B1 = torch.randn((1, n_hidden))\n",
    "B2 = torch.randn((1, n_output))"
   ]
  },
  {
   "cell_type": "code",
   "execution_count": 36,
   "metadata": {},
   "outputs": [
    {
     "data": {
      "text/plain": [
       "tensor([[ 0.1328,  0.1373]])"
      ]
     },
     "execution_count": 36,
     "metadata": {},
     "output_type": "execute_result"
    }
   ],
   "source": [
    "B1"
   ]
  },
  {
   "cell_type": "markdown",
   "metadata": {},
   "source": [
    "> **Exercise:** Calculate the output for this multi-layer network using the weights `W1` & `W2`, and the biases, `B1` & `B2`. "
   ]
  },
  {
   "cell_type": "code",
   "execution_count": 37,
   "metadata": {},
   "outputs": [
    {
     "data": {
      "text/plain": [
       "torch.Size([1, 3])"
      ]
     },
     "execution_count": 37,
     "metadata": {},
     "output_type": "execute_result"
    }
   ],
   "source": [
    "features.shape"
   ]
  },
  {
   "cell_type": "code",
   "execution_count": 38,
   "metadata": {},
   "outputs": [
    {
     "data": {
      "text/plain": [
       "torch.Size([3, 2])"
      ]
     },
     "execution_count": 38,
     "metadata": {},
     "output_type": "execute_result"
    }
   ],
   "source": [
    "W1.shape"
   ]
  },
  {
   "cell_type": "code",
   "execution_count": 45,
   "metadata": {},
   "outputs": [],
   "source": [
    "p1 = activation(torch.mm(features,W1)+B1)"
   ]
  },
  {
   "cell_type": "code",
   "execution_count": 47,
   "metadata": {},
   "outputs": [],
   "source": [
    "res = activation(torch.mm(p1,W2)+B2)"
   ]
  },
  {
   "cell_type": "code",
   "execution_count": 48,
   "metadata": {},
   "outputs": [
    {
     "data": {
      "text/plain": [
       "tensor([[ 0.3171]])"
      ]
     },
     "execution_count": 48,
     "metadata": {},
     "output_type": "execute_result"
    }
   ],
   "source": [
    "res"
   ]
  },
  {
   "cell_type": "markdown",
   "metadata": {},
   "source": [
    "If you did this correctly, you should see the output `tensor([[ 0.3171]])`.\n",
    "\n",
    "The number of hidden units a parameter of the network, often called a **hyperparameter** to differentiate it from the weights and biases parameters. As you'll see later when we discuss training a neural network, the more hidden units a network has, and the more layers, the better able it is to learn from data and make accurate predictions."
   ]
  },
  {
   "cell_type": "markdown",
   "metadata": {},
   "source": [
    "## Numpy to Torch and back\n",
    "\n",
    "Special bonus section! PyTorch has a great feature for converting between Numpy arrays and Torch tensors. To create a tensor from a Numpy array, use `torch.from_numpy()`. To convert a tensor to a Numpy array, use the `.numpy()` method."
   ]
  },
  {
   "cell_type": "code",
   "execution_count": 49,
   "metadata": {},
   "outputs": [
    {
     "data": {
      "text/plain": [
       "array([[ 0.26247745,  0.38940452,  0.40974709],\n",
       "       [ 0.12422177,  0.34954022,  0.32482268],\n",
       "       [ 0.17769691,  0.77880594,  0.22425594],\n",
       "       [ 0.31134285,  0.38638415,  0.22506886]])"
      ]
     },
     "execution_count": 49,
     "metadata": {},
     "output_type": "execute_result"
    }
   ],
   "source": [
    "import numpy as np\n",
    "a = np.random.rand(4,3)\n",
    "a"
   ]
  },
  {
   "cell_type": "code",
   "execution_count": 54,
   "metadata": {},
   "outputs": [
    {
     "data": {
      "text/plain": [
       "tensor([[ 0.2625,  0.3894,  0.4097],\n",
       "        [ 0.1242,  0.3495,  0.3248],\n",
       "        [ 0.1777,  0.7788,  0.2243],\n",
       "        [ 0.3113,  0.3864,  0.2251]], dtype=torch.float64)"
      ]
     },
     "execution_count": 54,
     "metadata": {},
     "output_type": "execute_result"
    }
   ],
   "source": [
    "b = torch.from_numpy(a)\n",
    "b"
   ]
  },
  {
   "cell_type": "code",
   "execution_count": 56,
   "metadata": {},
   "outputs": [
    {
     "data": {
      "text/plain": [
       "array([[ 0.26247745,  0.38940452,  0.40974709],\n",
       "       [ 0.12422177,  0.34954022,  0.32482268],\n",
       "       [ 0.17769691,  0.77880594,  0.22425594],\n",
       "       [ 0.31134285,  0.38638415,  0.22506886]])"
      ]
     },
     "execution_count": 56,
     "metadata": {},
     "output_type": "execute_result"
    }
   ],
   "source": [
    "b.numpy()"
   ]
  },
  {
   "cell_type": "markdown",
   "metadata": {},
   "source": [
    "The memory is shared between the Numpy array and Torch tensor, so if you change the values in-place of one object, the other will change as well."
   ]
  },
  {
   "cell_type": "code",
   "execution_count": 57,
   "metadata": {},
   "outputs": [
    {
     "data": {
      "text/plain": [
       "tensor([[ 0.5250,  0.7788,  0.8195],\n",
       "        [ 0.2484,  0.6991,  0.6496],\n",
       "        [ 0.3554,  1.5576,  0.4485],\n",
       "        [ 0.6227,  0.7728,  0.4501]], dtype=torch.float64)"
      ]
     },
     "execution_count": 57,
     "metadata": {},
     "output_type": "execute_result"
    }
   ],
   "source": [
    "# Multiply PyTorch Tensor by 2, in place\n",
    "b.mul_(2)"
   ]
  },
  {
   "cell_type": "code",
   "execution_count": 58,
   "metadata": {},
   "outputs": [
    {
     "data": {
      "text/plain": [
       "array([[ 0.5249549 ,  0.77880903,  0.81949419],\n",
       "       [ 0.24844355,  0.69908044,  0.64964535],\n",
       "       [ 0.35539383,  1.55761187,  0.44851189],\n",
       "       [ 0.6226857 ,  0.7727683 ,  0.45013771]])"
      ]
     },
     "execution_count": 58,
     "metadata": {},
     "output_type": "execute_result"
    }
   ],
   "source": [
    "# Numpy array matches new values from Tensor\n",
    "a"
   ]
  },
  {
   "cell_type": "code",
   "execution_count": null,
   "metadata": {},
   "outputs": [],
   "source": []
  }
 ],
 "metadata": {
  "kernelspec": {
   "display_name": "Python 3",
   "language": "python",
   "name": "python3"
  },
  "language_info": {
   "codemirror_mode": {
    "name": "ipython",
    "version": 3
   },
   "file_extension": ".py",
   "mimetype": "text/x-python",
   "name": "python",
   "nbconvert_exporter": "python",
   "pygments_lexer": "ipython3",
   "version": "3.6.3"
  }
 },
 "nbformat": 4,
 "nbformat_minor": 2
}
